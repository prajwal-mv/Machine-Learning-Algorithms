{
  "nbformat": 4,
  "nbformat_minor": 0,
  "metadata": {
    "colab": {
      "provenance": [],
      "authorship_tag": "ABX9TyPaJFjNzX52sxoX/8teiZAD",
      "include_colab_link": true
    },
    "kernelspec": {
      "name": "python3",
      "display_name": "Python 3"
    },
    "language_info": {
      "name": "python"
    }
  },
  "cells": [
    {
      "cell_type": "markdown",
      "metadata": {
        "id": "view-in-github",
        "colab_type": "text"
      },
      "source": [
        "<a href=\"https://colab.research.google.com/github/prajwal-mv/Machine-Learning-Algorithms/blob/main/ML.ipynb\" target=\"_parent\"><img src=\"https://colab.research.google.com/assets/colab-badge.svg\" alt=\"Open In Colab\"/></a>"
      ]
    },
    {
      "cell_type": "markdown",
      "source": [
        "##ML ALgorithms##"
      ],
      "metadata": {
        "id": "yXOjJSIXEq__"
      }
    },
    {
      "cell_type": "markdown",
      "source": [
        "MachineLearning is any process by which a system improves \n",
        "performance from experience\n",
        "Machine Learning is concerned with computer \n",
        "programs that automatically improve their \n",
        "performance through experience\n"
      ],
      "metadata": {
        "id": "3_6kAnZQErC0"
      }
    },
    {
      "cell_type": "markdown",
      "source": [
        "Supervised ML:\n",
        "\n",
        "\n",
        "In Supervised learning, models are trained using labelled dataset, where the model learns about each type of data and on basis of that data, machines predict the output.The aim of a supervised learning algorithm is to find a mapping function to map the input variable(x) with the output variable(y)."
      ],
      "metadata": {
        "id": "EjJXn-7wErLm"
      }
    },
    {
      "cell_type": "markdown",
      "source": [],
      "metadata": {
        "id": "tkaotVqoHfhP"
      }
    },
    {
      "cell_type": "code",
      "source": [],
      "metadata": {
        "id": "5J0sOdh1HdgQ"
      },
      "execution_count": null,
      "outputs": []
    }
  ]
}